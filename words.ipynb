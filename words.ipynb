{
 "cells": [
  {
   "cell_type": "code",
   "execution_count": 193,
   "metadata": {},
   "outputs": [],
   "source": [
    "def comparison(s, word, g, y):\n",
    "    score = 0\n",
    "    if word[0] == s[0]:\n",
    "        score += g\n",
    "    elif word[0] in s:\n",
    "        score +=y\n",
    "    if word[1] == s[1]:\n",
    "        score += g\n",
    "    elif word[1] in s:\n",
    "        score +=y\n",
    "    if word[2] == s[2]:\n",
    "        score += g\n",
    "    elif word[2] in s:\n",
    "        score +=y\n",
    "    if word[3] == s[3]:\n",
    "        score += g\n",
    "    elif word[3] in s:\n",
    "        score +=y\n",
    "    if word[4] == s[4]:\n",
    "        score += g\n",
    "    elif word[4] in s:\n",
    "        score +=y\n",
    "    return score"
   ]
  },
  {
   "cell_type": "code",
   "execution_count": 194,
   "metadata": {},
   "outputs": [],
   "source": [
    "def scoring(s, g, y):\n",
    "    score = 0\n",
    "    for word in solutions:\n",
    "        score += comparison(s, word, g, y)\n",
    "    return score"
   ]
  },
  {
   "cell_type": "code",
   "execution_count": 151,
   "metadata": {},
   "outputs": [],
   "source": [
    "df = pd.DataFrame(solutions, columns=['words'])\n",
    "df['scoring'] = df['words'].apply(lambda s: scoring(s))"
   ]
  },
  {
   "cell_type": "code",
   "execution_count": 152,
   "metadata": {},
   "outputs": [
    {
     "data": {
      "text/html": [
       "<div>\n",
       "<style scoped>\n",
       "    .dataframe tbody tr th:only-of-type {\n",
       "        vertical-align: middle;\n",
       "    }\n",
       "\n",
       "    .dataframe tbody tr th {\n",
       "        vertical-align: top;\n",
       "    }\n",
       "\n",
       "    .dataframe thead th {\n",
       "        text-align: right;\n",
       "    }\n",
       "</style>\n",
       "<table border=\"1\" class=\"dataframe\">\n",
       "  <thead>\n",
       "    <tr style=\"text-align: right;\">\n",
       "      <th></th>\n",
       "      <th>words</th>\n",
       "      <th>scoring</th>\n",
       "    </tr>\n",
       "  </thead>\n",
       "  <tbody>\n",
       "    <tr>\n",
       "      <th>253</th>\n",
       "      <td>vivid</td>\n",
       "      <td>1787</td>\n",
       "    </tr>\n",
       "    <tr>\n",
       "      <th>1649</th>\n",
       "      <td>fuzzy</td>\n",
       "      <td>1879</td>\n",
       "    </tr>\n",
       "    <tr>\n",
       "      <th>2137</th>\n",
       "      <td>mamma</td>\n",
       "      <td>1899</td>\n",
       "    </tr>\n",
       "    <tr>\n",
       "      <th>96</th>\n",
       "      <td>civic</td>\n",
       "      <td>1939</td>\n",
       "    </tr>\n",
       "    <tr>\n",
       "      <th>392</th>\n",
       "      <td>fluff</td>\n",
       "      <td>1979</td>\n",
       "    </tr>\n",
       "    <tr>\n",
       "      <th>...</th>\n",
       "      <td>...</td>\n",
       "      <td>...</td>\n",
       "    </tr>\n",
       "    <tr>\n",
       "      <th>560</th>\n",
       "      <td>arise</td>\n",
       "      <td>5720</td>\n",
       "    </tr>\n",
       "    <tr>\n",
       "      <th>1668</th>\n",
       "      <td>raise</td>\n",
       "      <td>5721</td>\n",
       "    </tr>\n",
       "    <tr>\n",
       "      <th>878</th>\n",
       "      <td>slate</td>\n",
       "      <td>5766</td>\n",
       "    </tr>\n",
       "    <tr>\n",
       "      <th>1252</th>\n",
       "      <td>arose</td>\n",
       "      <td>5781</td>\n",
       "    </tr>\n",
       "    <tr>\n",
       "      <th>915</th>\n",
       "      <td>stare</td>\n",
       "      <td>5835</td>\n",
       "    </tr>\n",
       "  </tbody>\n",
       "</table>\n",
       "<p>2315 rows × 2 columns</p>\n",
       "</div>"
      ],
      "text/plain": [
       "      words  scoring\n",
       "253   vivid     1787\n",
       "1649  fuzzy     1879\n",
       "2137  mamma     1899\n",
       "96    civic     1939\n",
       "392   fluff     1979\n",
       "...     ...      ...\n",
       "560   arise     5720\n",
       "1668  raise     5721\n",
       "878   slate     5766\n",
       "1252  arose     5781\n",
       "915   stare     5835\n",
       "\n",
       "[2315 rows x 2 columns]"
      ]
     },
     "execution_count": 152,
     "metadata": {},
     "output_type": "execute_result"
    }
   ],
   "source": [
    "df.sort_values('scoring', ascending=True)"
   ]
  },
  {
   "cell_type": "code",
   "execution_count": 244,
   "metadata": {},
   "outputs": [],
   "source": [
    "import pickle\n",
    "import random\n",
    "\n",
    "import pandas as pd\n",
    "\n",
    "import matplotlib.pyplot as plt\n",
    "\n",
    "from collections import Counter\n",
    "\n",
    "global init\n",
    "\n",
    "init_flag = False\n",
    "\n",
    "\n",
    "def init(soln, i):\n",
    "    global exs, letters, solutions, test, actual_solution, attempts, df\n",
    "    \n",
    "    attempts = []\n",
    "    \n",
    "    with open('solutions.pkl', 'rb') as f:\n",
    "        solutions = pickle.load(f)\n",
    "        \n",
    "    with open('test_set.pkl', 'rb') as f:\n",
    "        test = pickle.load(f)\n",
    "        \n",
    "#     actual_solution = solutions[i]\n",
    "#     actual_solution = random.choice(solutions)\n",
    "#     actual_solution = soln\n",
    "        \n",
    "#     df = pd.read_csv('scored_words.csv')\n",
    "    df = pd.read_csv('scored_solution.csv')\n",
    "    \n",
    "    alphabet = [s for s in 'abcdefghijklmnopqrstuvwxyz']\n",
    "    \n",
    "    letters = {\n",
    "        '1': alphabet,\n",
    "        '2': alphabet,\n",
    "        '3': alphabet,\n",
    "        '4': alphabet,\n",
    "        '5': alphabet\n",
    "    }\n",
    "    \n",
    "    exs = {\n",
    "        '1': [],\n",
    "        '2': [],\n",
    "        '3': [],\n",
    "        '4': [],\n",
    "        '5': []\n",
    "    }\n",
    "\n",
    "        \n",
    "def guess(count, verbose, a, b, no_solns):\n",
    "    global attempts, df\n",
    "    \n",
    "    yellows, exemptions = [], []\n",
    "    greens = [None, None, None, None, None]\n",
    "    \n",
    "    if count == 0:\n",
    "        attempt = a\n",
    "    \n",
    "    elif count == 1:\n",
    "        if len(solution) > no_solns:\n",
    "            attempt = b\n",
    "        else:\n",
    "            attempt = df['words'].iloc[0]\n",
    "            if attempt in attempts:\n",
    "                df = df[~df['words'].isin([attempt])]\n",
    "                attempt = df['words'].iloc[0]\n",
    "    else:\n",
    "        attempt = df['words'].iloc[0]\n",
    "        if attempt in attempts:\n",
    "            df = df[~df['words'].isin([attempt])]\n",
    "            attempt = df['words'].iloc[0]\n",
    "            \n",
    "    attempts.append(attempt)\n",
    "    print('attempt')\n",
    "    \n",
    "    if verbose:\n",
    "#         print('Guesses: ' + str(attempts))\n",
    "#         print('Solution: ' + actual_solution)\n",
    "        \n",
    "    for i, character in enumerate(attempt):\n",
    "        if character == actual_solution[i]:\n",
    "            greens[i] = character\n",
    "        elif character in actual_solution:\n",
    "            yellows.append(character)\n",
    "            exs[str(i+1)] = character\n",
    "        else:\n",
    "            exemptions.append(character)\n",
    "            \n",
    "    return greens, yellows, exemptions, attempt\n",
    "\n",
    "\n",
    "def iteration(a, b, soln, i, no_solns, verbose=False):\n",
    "    global df, init_flag, attempts, solution\n",
    "    \n",
    "    stop = False\n",
    "    count = 0\n",
    "    while stop == False:\n",
    "\n",
    "        if init_flag == False:\n",
    "            init(soln, i)\n",
    "            init_flag = True\n",
    "\n",
    "        greens, yellows, exemptions, attempt = guess(count, verbose, a, b, no_solns)\n",
    "\n",
    "        for i, green in enumerate(greens):\n",
    "            if green:\n",
    "                letters[str(i+1)] = green\n",
    "        if count == 0:\n",
    "            solution = [word for word in solutions if all(x in word for x in yellows) \n",
    "                         and any(x in word[0] for x in letters['1'])\n",
    "                         and any(x in word[1] for x in letters['2'])\n",
    "                         and any(x in word[2] for x in letters['3'])\n",
    "                         and any(x in word[3] for x in letters['4'])\n",
    "                         and any(x in word[4] for x in letters['5'])\n",
    "                         and not any(x in word[0] for x in exs['1'] if exs['1'])\n",
    "                         and not any(x in word[1] for x in exs['2'] if exs['2'])\n",
    "                         and not any(x in word[2] for x in exs['3'] if exs['3'])\n",
    "                         and not any(x in word[3] for x in exs['4'] if exs['4'])\n",
    "                         and not any(x in word[4] for x in exs['5'] if exs['5'])\n",
    "                         and not any(x in word for x in exemptions)\n",
    "                        ]\n",
    "        else:\n",
    "            solution = [word for word in solution if all(x in word for x in yellows) \n",
    "                         and any(x in word[0] for x in letters['1'])\n",
    "                         and any(x in word[1] for x in letters['2'])\n",
    "                         and any(x in word[2] for x in letters['3'])\n",
    "                         and any(x in word[3] for x in letters['4'])\n",
    "                         and any(x in word[4] for x in letters['5'])\n",
    "                         and not any(x in word[0] for x in exs['1'] if exs['1'])\n",
    "                         and not any(x in word[1] for x in exs['2'] if exs['2'])\n",
    "                         and not any(x in word[2] for x in exs['3'] if exs['3'])\n",
    "                         and not any(x in word[3] for x in exs['4'] if exs['4'])\n",
    "                         and not any(x in word[4] for x in exs['5'] if exs['5'])\n",
    "                         and not any(x in word for x in exemptions)\n",
    "                       ]\n",
    "\n",
    "#         if verbose:\n",
    "#             print('Solution list: ' + str(solution))\n",
    "            \n",
    "        df = pd.DataFrame(solution, columns=['words'])\n",
    "        df['scoring'] = df['words'].apply(lambda s: scoring(s, 13, 1))\n",
    "#         if verbose:\n",
    "#             print(df.sort_values('scoring', ascending=False))\n",
    "        \n",
    "        df = df[df['words'].isin(solution)].sort_values('scoring', ascending=False)\n",
    "#         print(df)\n",
    "        \n",
    "        count += 1\n",
    "        if len(solution) == 1:\n",
    "            if attempt not in solution:\n",
    "                count += 1\n",
    "            stop = True\n",
    "            init_flag = False\n",
    "        if count == 6:\n",
    "#             print('failed')\n",
    "#             print(actual_solution)\n",
    "            stop = True\n",
    "            init_flag = False\n",
    "    return count"
   ]
  },
  {
   "cell_type": "code",
   "execution_count": 243,
   "metadata": {
    "scrolled": true
   },
   "outputs": [
    {
     "name": "stdout",
     "output_type": "stream",
     "text": [
      "Guesses: ['stale']\n",
      "Solution: cigar\n",
      "Solution list: ['cigar', 'karma', 'major', 'marry', 'croak', 'maxim', 'parry', 'gamma', 'briar', 'gaudy', 'vodka', 'radio', 'favor', 'panic', 'agora', 'aroma', 'harry', 'comma', 'foray', 'cargo', 'hairy', 'canny', 'bayou', 'manor', 'apron', 'cacao', 'gawky', 'madam', 'augur', 'wacky', 'angry', 'aphid', 'dandy', 'carry', 'fanny', 'rainy', 'daddy', 'aging', 'mocha', 'pagan', 'human', 'manga', 'groan', 'fairy', 'ardor', 'nanny', 'handy', 'ninja', 'vapor', 'acorn', 'aping', 'mania', 'borax', 'china', 'rabid', 'caddy', 'magic', 'macaw', 'candy', 'march', 'arbor', 'hardy', 'razor', 'wagon', 'cabin', 'fancy', 'friar', 'dairy', 'among', 'rabbi', 'agony', 'urban', 'rajah', 'gonad', 'adorn', 'mafia', 'array', 'vapid', 'acrid', 'mayor', 'randy', 'radar', 'canon', 'pizza', 'baggy', 'mammy', 'nadir', 'havoc', 'annoy', 'kappa', 'bawdy', 'radii', 'dogma', 'nomad', 'cocoa', 'mango', 'rumba', 'audio', 'manic', 'admin', 'macho', 'harpy', 'cairn', 'broad', 'axiom', 'armor', 'jazzy', 'arrow', 'vicar', 'cobra', 'macro', 'baron', 'bacon', 'umbra', 'avian', 'parka', 'avoid', 'circa', 'paddy', 'mambo', 'affix', 'abhor', 'kayak', 'banjo', 'axion', 'ranch', 'mamma', 'cabby', 'magma', 'woman', 'rapid', 'fauna', 'happy', 'mangy', 'organ', 'rayon']\n",
      "     words  scoring\n",
      "35   rainy    18201\n",
      "43   fairy    17868\n",
      "67   dairy    17731\n",
      "20   hairy    17223\n",
      "33   carry    16952\n",
      "..     ...      ...\n",
      "47   ninja     7580\n",
      "89   kappa     7508\n",
      "83   pizza     7325\n",
      "113  umbra     7070\n",
      "120  affix     5997\n",
      "\n",
      "[136 rows x 2 columns]\n",
      "Guesses: ['stale', 'rainy']\n",
      "Solution: cigar\n",
      "Solution list: ['cigar', 'acrid', 'vicar', 'circa']\n",
      "   words  scoring\n",
      "0  cigar    13441\n",
      "3  circa    12374\n",
      "2  vicar    11291\n",
      "1  acrid    10859\n",
      "Guesses: ['stale', 'rainy', 'cigar']\n",
      "Solution: cigar\n",
      "Solution list: ['cigar']\n",
      "   words  scoring\n",
      "0  cigar    13441\n"
     ]
    },
    {
     "data": {
      "text/plain": [
       "3.0"
      ]
     },
     "execution_count": 243,
     "metadata": {},
     "output_type": "execute_result"
    }
   ],
   "source": [
    "count = 0\n",
    "\n",
    "samples=1\n",
    "\n",
    "for i in range(samples):\n",
    "    count += iteration('stale', 'irony', 'vivid', i, 200, verbose=True)\n",
    "    \n",
    "count/samples"
   ]
  },
  {
   "cell_type": "code",
   "execution_count": 61,
   "metadata": {},
   "outputs": [
    {
     "data": {
      "image/png": "[encoded data removed]",
      "text/plain": [
       "<Figure size 1152x864 with 1 Axes>"
      ]
     },
     "metadata": {
      "needs_background": "light"
     },
     "output_type": "display_data"
    }
   ],
   "source": [
    "w = Counter([s for s in \"\".join(solutions)])\n",
    "\n",
    "plt.figure(figsize=(16,12))\n",
    "plt.bar(w.keys(), w.values())\n",
    "plt.show()"
   ]
  },
  {
   "cell_type": "code",
   "execution_count": 62,
   "metadata": {},
   "outputs": [
    {
     "data": {
      "text/plain": [
       "[('e', 1233),\n",
       " ('a', 979),\n",
       " ('r', 899),\n",
       " ('o', 754),\n",
       " ('t', 729),\n",
       " ('l', 719),\n",
       " ('i', 671),\n",
       " ('s', 669),\n",
       " ('n', 575),\n",
       " ('c', 477),\n",
       " ('u', 467),\n",
       " ('y', 425),\n",
       " ('d', 393),\n",
       " ('h', 389),\n",
       " ('p', 367),\n",
       " ('m', 316),\n",
       " ('g', 311),\n",
       " ('b', 281),\n",
       " ('f', 230),\n",
       " ('k', 210),\n",
       " ('w', 195),\n",
       " ('v', 153),\n",
       " ('z', 40),\n",
       " ('x', 37),\n",
       " ('q', 29),\n",
       " ('j', 27)]"
      ]
     },
     "execution_count": 62,
     "metadata": {},
     "output_type": "execute_result"
    }
   ],
   "source": [
    "sorted(w.items(), key=lambda item: item[1], reverse=True) # e a r o t l i s n c"
   ]
  },
  {
   "cell_type": "code",
   "execution_count": 48,
   "metadata": {},
   "outputs": [
    {
     "data": {
      "image/png": "[encoded data removed]",
      "text/plain": [
       "<Figure size 1152x864 with 1 Axes>"
      ]
     },
     "metadata": {
      "needs_background": "light"
     },
     "output_type": "display_data"
    }
   ],
   "source": [
    "w = Counter([s for s in \"\".join([t[0] for t in solutions])])\n",
    "\n",
    "plt.figure(figsize=(16,12))\n",
    "plt.bar(w.keys(), w.values())\n",
    "plt.show()"
   ]
  },
  {
   "cell_type": "code",
   "execution_count": 49,
   "metadata": {},
   "outputs": [
    {
     "data": {
      "image/png": "[encoded data removed]",
      "text/plain": [
       "<Figure size 1152x864 with 1 Axes>"
      ]
     },
     "metadata": {
      "needs_background": "light"
     },
     "output_type": "display_data"
    }
   ],
   "source": [
    "w = Counter([s for s in \"\".join([t[1] for t in solutions])])\n",
    "\n",
    "plt.figure(figsize=(16,12))\n",
    "plt.bar(w.keys(), w.values())\n",
    "plt.show()"
   ]
  },
  {
   "cell_type": "code",
   "execution_count": 50,
   "metadata": {},
   "outputs": [
    {
     "data": {
      "image/png": "[encoded data removed]",
      "text/plain": [
       "<Figure size 1152x864 with 1 Axes>"
      ]
     },
     "metadata": {
      "needs_background": "light"
     },
     "output_type": "display_data"
    }
   ],
   "source": [
    "w = Counter([s for s in \"\".join([t[2] for t in solutions])])\n",
    "\n",
    "plt.figure(figsize=(16,12))\n",
    "plt.bar(w.keys(), w.values())\n",
    "plt.show()"
   ]
  },
  {
   "cell_type": "code",
   "execution_count": 53,
   "metadata": {},
   "outputs": [],
   "source": [
    "from collections import OrderedDict, Counter\n",
    "\n",
    "class OrderedCounter(Counter, OrderedDict):\n",
    "    pass"
   ]
  },
  {
   "cell_type": "code",
   "execution_count": 51,
   "metadata": {},
   "outputs": [
    {
     "data": {
      "image/png": "[encoded data removed]",
      "text/plain": [
       "<Figure size 1152x864 with 1 Axes>"
      ]
     },
     "metadata": {
      "needs_background": "light"
     },
     "output_type": "display_data"
    }
   ],
   "source": [
    "w = Counter([s for s in \"\".join([t[3] for t in solutions])])\n",
    "\n",
    "plt.figure(figsize=(16,12))\n",
    "plt.bar(w.keys(), w.values())\n",
    "plt.show()"
   ]
  },
  {
   "cell_type": "code",
   "execution_count": 52,
   "metadata": {},
   "outputs": [
    {
     "data": {
      "image/png": "[encoded data removed]",
      "text/plain": [
       "<Figure size 1152x864 with 1 Axes>"
      ]
     },
     "metadata": {
      "needs_background": "light"
     },
     "output_type": "display_data"
    }
   ],
   "source": [
    "w = Counter([s for s in \"\".join([t[4] for t in solutions])])\n",
    "\n",
    "plt.figure(figsize=(16,12))\n",
    "plt.bar(w.keys(), w.values())\n",
    "plt.show()"
   ]
  },
  {
   "cell_type": "code",
   "execution_count": 60,
   "metadata": {},
   "outputs": [
    {
     "data": {
      "text/plain": [
       "[('e', 424),\n",
       " ('y', 364),\n",
       " ('t', 253),\n",
       " ('r', 212),\n",
       " ('l', 156),\n",
       " ('h', 139),\n",
       " ('n', 130),\n",
       " ('d', 118),\n",
       " ('k', 113),\n",
       " ('a', 64),\n",
       " ('o', 58),\n",
       " ('p', 56),\n",
       " ('m', 42),\n",
       " ('g', 41),\n",
       " ('s', 36),\n",
       " ('c', 31),\n",
       " ('f', 26),\n",
       " ('w', 17),\n",
       " ('i', 11),\n",
       " ('b', 11),\n",
       " ('x', 8),\n",
       " ('z', 4),\n",
       " ('u', 1)]"
      ]
     },
     "execution_count": 60,
     "metadata": {},
     "output_type": "execute_result"
    }
   ],
   "source": [
    "sorted(w.items(), key=lambda item: item[1], reverse=True)"
   ]
  },
  {
   "cell_type": "code",
   "execution_count": null,
   "metadata": {},
   "outputs": [],
   "source": [
    "# e a r o t l i s n c"
   ]
  },
  {
   "cell_type": "code",
   "execution_count": null,
   "metadata": {},
   "outputs": [],
   "source": [
    "stale # # r o i n c"
   ]
  },
  {
   "cell_type": "code",
   "execution_count": 64,
   "metadata": {},
   "outputs": [
    {
     "data": {
      "text/plain": [
       "['outdo',\n",
       " 'offal',\n",
       " 'ought',\n",
       " 'other',\n",
       " 'oxide',\n",
       " 'olive',\n",
       " 'octal',\n",
       " 'onset',\n",
       " 'ombre',\n",
       " 'opium',\n",
       " 'octet',\n",
       " 'onion',\n",
       " 'ozone',\n",
       " 'ovary',\n",
       " 'ocean',\n",
       " 'often',\n",
       " 'outgo',\n",
       " 'outer',\n",
       " 'otter',\n",
       " 'offer',\n",
       " 'overt',\n",
       " 'ovoid',\n",
       " 'oaken',\n",
       " 'owner',\n",
       " 'optic',\n",
       " 'obese',\n",
       " 'oddly',\n",
       " 'orbit',\n",
       " 'ovate',\n",
       " 'order',\n",
       " 'omega',\n",
       " 'olden',\n",
       " 'older',\n",
       " 'opine',\n",
       " 'owing',\n",
       " 'odder',\n",
       " 'ounce',\n",
       " 'opera',\n",
       " 'ovine',\n",
       " 'occur',\n",
       " 'organ']"
      ]
     },
     "execution_count": 64,
     "metadata": {},
     "output_type": "execute_result"
    }
   ],
   "source": [
    "[word for word in solutions if word[0] == 'o']"
   ]
  },
  {
   "cell_type": "code",
   "execution_count": 54,
   "metadata": {},
   "outputs": [],
   "source": [
    "counter = OrderedCounter([s for s in \"\".join([t[4] for t in solutions])])"
   ]
  },
  {
   "cell_type": "code",
   "execution_count": null,
   "metadata": {},
   "outputs": [],
   "source": []
  },
  {
   "cell_type": "code",
   "execution_count": 55,
   "metadata": {},
   "outputs": [
    {
     "name": "stdout",
     "output_type": "stream",
     "text": [
      "r 212\n",
      "t 253\n",
      "y 364\n",
      "h 139\n",
      "e 424\n",
      "l 156\n",
      "f 26\n",
      "a 64\n",
      "k 113\n",
      "n 130\n",
      "s 36\n",
      "x 8\n",
      "d 118\n",
      "p 56\n",
      "o 58\n",
      "c 31\n",
      "m 42\n",
      "b 11\n",
      "g 41\n",
      "w 17\n",
      "u 1\n",
      "i 11\n",
      "z 4\n"
     ]
    }
   ],
   "source": [
    "for key, value in counter.items():\n",
    "    print(key, value)"
   ]
  },
  {
   "cell_type": "code",
   "execution_count": 56,
   "metadata": {},
   "outputs": [
    {
     "data": {
      "text/plain": [
       "{'a': 64,\n",
       " 'b': 11,\n",
       " 'c': 31,\n",
       " 'd': 118,\n",
       " 'e': 424,\n",
       " 'f': 26,\n",
       " 'g': 41,\n",
       " 'h': 139,\n",
       " 'i': 11,\n",
       " 'k': 113,\n",
       " 'l': 156,\n",
       " 'm': 42,\n",
       " 'n': 130,\n",
       " 'o': 58,\n",
       " 'p': 56,\n",
       " 'r': 212,\n",
       " 's': 36,\n",
       " 't': 253,\n",
       " 'u': 1,\n",
       " 'w': 17,\n",
       " 'x': 8,\n",
       " 'y': 364,\n",
       " 'z': 4}"
      ]
     },
     "execution_count": 56,
     "metadata": {},
     "output_type": "execute_result"
    }
   ],
   "source": [
    "{k: v for k, v in sorted(counter.items(), key=lambda item: item[1])}"
   ]
  }
 ],
 "metadata": {
  "kernelspec": {
   "display_name": "pia_text",
   "language": "python",
   "name": "pia_text"
  },
  "language_info": {
   "codemirror_mode": {
    "name": "ipython",
    "version": 3
   },
   "file_extension": ".py",
   "mimetype": "text/x-python",
   "name": "python",
   "nbconvert_exporter": "python",
   "pygments_lexer": "ipython3",
   "version": "3.5.3"
  }
 },
 "nbformat": 4,
 "nbformat_minor": 2
}
